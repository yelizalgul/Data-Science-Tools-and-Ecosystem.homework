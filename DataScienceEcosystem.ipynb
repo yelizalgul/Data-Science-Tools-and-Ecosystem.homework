{
 "cells": [
  {
   "cell_type": "markdown",
   "id": "e6ab0679",
   "metadata": {},
   "source": [
    "# h1 : Data Science Tools and Ecosystem"
   ]
  },
  {
   "cell_type": "markdown",
   "id": "199c20f8",
   "metadata": {},
   "source": [
    "| data science popular languages list | \n",
    "1. R programing\n",
    "2. Pyhton\n",
    "3. SQL\n"
   ]
  },
  {
   "cell_type": "markdown",
   "id": "a62dc455",
   "metadata": {},
   "source": [
    "In this notebook, Data Science Tools and Ecosystem are summarized"
   ]
  },
  {
   "cell_type": "markdown",
   "id": "54930eb8",
   "metadata": {},
   "source": [
    "| data science libraries list | \n",
    "1. Keras\n",
    "2. Tensorflow\n",
    "3. Numby"
   ]
  },
  {
   "cell_type": "markdown",
   "id": "2e04fa67",
   "metadata": {},
   "source": [
    "| Data Science  tools |\n",
    "| -------------------|\n",
    "| Git, Githubs|\n",
    "| MongoDB  |\n",
    "| Apache Hadoop  |"
   ]
  },
  {
   "cell_type": "markdown",
   "id": "1f1eb699",
   "metadata": {},
   "source": [
    "### h3: Below are a few examples of evaluating arithmetic expressions in Python"
   ]
  },
  {
   "cell_type": "code",
   "execution_count": 1,
   "id": "345b8eb2",
   "metadata": {},
   "outputs": [
    {
     "data": {
      "text/plain": [
       "17"
      ]
     },
     "execution_count": 1,
     "metadata": {},
     "output_type": "execute_result"
    }
   ],
   "source": [
    "# This a simple arithmetic expression to mutiply then add integers\n",
    "(3*4)+5"
   ]
  },
  {
   "cell_type": "code",
   "execution_count": 2,
   "id": "92e5aa75",
   "metadata": {},
   "outputs": [
    {
     "data": {
      "text/plain": [
       "3.3333333333333335"
      ]
     },
     "execution_count": 2,
     "metadata": {},
     "output_type": "execute_result"
    }
   ],
   "source": [
    "#This will convert 200 minutes to hours by diving by 60.\n",
    "200/60"
   ]
  },
  {
   "cell_type": "markdown",
   "id": "836bd4c5",
   "metadata": {},
   "source": [
    "### In this notebook, Data Science Tools and Ecosystem are summarized. \n",
    "\n",
    "**Objectives:**\n",
    "\n",
    "* pyhton programing\n",
    "* SQL\n",
    "* R programing\n",
    "\n"
   ]
  },
  {
   "cell_type": "markdown",
   "id": "c475888a",
   "metadata": {},
   "source": [
    "## Author's name\n",
    "\n",
    "**yeliz**"
   ]
  },
  {
   "cell_type": "code",
   "execution_count": null,
   "id": "a92a01f9",
   "metadata": {},
   "outputs": [],
   "source": []
  }
 ],
 "metadata": {
  "kernelspec": {
   "display_name": "Python 3 (ipykernel)",
   "language": "python",
   "name": "python3"
  },
  "language_info": {
   "codemirror_mode": {
    "name": "ipython",
    "version": 3
   },
   "file_extension": ".py",
   "mimetype": "text/x-python",
   "name": "python",
   "nbconvert_exporter": "python",
   "pygments_lexer": "ipython3",
   "version": "3.9.13"
  }
 },
 "nbformat": 4,
 "nbformat_minor": 5
}
